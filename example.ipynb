{
 "cells": [
  {
   "cell_type": "markdown",
   "metadata": {},
   "source": [
    "## For an unsolvable system of linear equations, Ax = b, there exists a best solution, x_hat, that is found by solving the equation p = Ax_hat, where p is the vector resulting from the projection of b onto the column space of A. \n",
    "## Since e = b-p is orthogonal to the column space of A (i.e., belongs to the left-nullspace of A), it follows that A'(b-Ax_hat) = 0 and A'Ax_hat = A'b, allowing us to solve for x_hat."
   ]
  },
  {
   "cell_type": "code",
   "execution_count": 4,
   "metadata": {},
   "outputs": [],
   "source": [
    "import pandas as pd\n",
    "import numpy as np"
   ]
  },
  {
   "cell_type": "code",
   "execution_count": 5,
   "metadata": {},
   "outputs": [],
   "source": [
    "seed = 311\n",
    "rng = np.random.default_rng(seed) "
   ]
  },
  {
   "cell_type": "code",
   "execution_count": 6,
   "metadata": {},
   "outputs": [
    {
     "data": {
      "text/html": [
       "<div>\n",
       "<style scoped>\n",
       "    .dataframe tbody tr th:only-of-type {\n",
       "        vertical-align: middle;\n",
       "    }\n",
       "\n",
       "    .dataframe tbody tr th {\n",
       "        vertical-align: top;\n",
       "    }\n",
       "\n",
       "    .dataframe thead th {\n",
       "        text-align: right;\n",
       "    }\n",
       "</style>\n",
       "<table border=\"1\" class=\"dataframe\">\n",
       "  <thead>\n",
       "    <tr style=\"text-align: right;\">\n",
       "      <th></th>\n",
       "      <th>x1</th>\n",
       "      <th>x2</th>\n",
       "      <th>x3</th>\n",
       "      <th>x4</th>\n",
       "    </tr>\n",
       "  </thead>\n",
       "  <tbody>\n",
       "    <tr>\n",
       "      <th>0</th>\n",
       "      <td>34</td>\n",
       "      <td>15</td>\n",
       "      <td>23</td>\n",
       "      <td>56</td>\n",
       "    </tr>\n",
       "    <tr>\n",
       "      <th>1</th>\n",
       "      <td>8</td>\n",
       "      <td>64</td>\n",
       "      <td>4</td>\n",
       "      <td>70</td>\n",
       "    </tr>\n",
       "    <tr>\n",
       "      <th>2</th>\n",
       "      <td>46</td>\n",
       "      <td>13</td>\n",
       "      <td>6</td>\n",
       "      <td>79</td>\n",
       "    </tr>\n",
       "    <tr>\n",
       "      <th>3</th>\n",
       "      <td>60</td>\n",
       "      <td>98</td>\n",
       "      <td>43</td>\n",
       "      <td>8</td>\n",
       "    </tr>\n",
       "    <tr>\n",
       "      <th>4</th>\n",
       "      <td>2</td>\n",
       "      <td>18</td>\n",
       "      <td>33</td>\n",
       "      <td>8</td>\n",
       "    </tr>\n",
       "    <tr>\n",
       "      <th>...</th>\n",
       "      <td>...</td>\n",
       "      <td>...</td>\n",
       "      <td>...</td>\n",
       "      <td>...</td>\n",
       "    </tr>\n",
       "    <tr>\n",
       "      <th>95</th>\n",
       "      <td>0</td>\n",
       "      <td>68</td>\n",
       "      <td>99</td>\n",
       "      <td>27</td>\n",
       "    </tr>\n",
       "    <tr>\n",
       "      <th>96</th>\n",
       "      <td>33</td>\n",
       "      <td>59</td>\n",
       "      <td>21</td>\n",
       "      <td>33</td>\n",
       "    </tr>\n",
       "    <tr>\n",
       "      <th>97</th>\n",
       "      <td>7</td>\n",
       "      <td>79</td>\n",
       "      <td>49</td>\n",
       "      <td>84</td>\n",
       "    </tr>\n",
       "    <tr>\n",
       "      <th>98</th>\n",
       "      <td>6</td>\n",
       "      <td>57</td>\n",
       "      <td>0</td>\n",
       "      <td>43</td>\n",
       "    </tr>\n",
       "    <tr>\n",
       "      <th>99</th>\n",
       "      <td>68</td>\n",
       "      <td>89</td>\n",
       "      <td>98</td>\n",
       "      <td>21</td>\n",
       "    </tr>\n",
       "  </tbody>\n",
       "</table>\n",
       "<p>100 rows × 4 columns</p>\n",
       "</div>"
      ],
      "text/plain": [
       "    x1  x2  x3  x4\n",
       "0   34  15  23  56\n",
       "1    8  64   4  70\n",
       "2   46  13   6  79\n",
       "3   60  98  43   8\n",
       "4    2  18  33   8\n",
       "..  ..  ..  ..  ..\n",
       "95   0  68  99  27\n",
       "96  33  59  21  33\n",
       "97   7  79  49  84\n",
       "98   6  57   0  43\n",
       "99  68  89  98  21\n",
       "\n",
       "[100 rows x 4 columns]"
      ]
     },
     "execution_count": 6,
     "metadata": {},
     "output_type": "execute_result"
    }
   ],
   "source": [
    "df = pd.DataFrame(rng.integers(0,100,size=(100, 4)), columns=['x1','x2','x3','x4'])\n",
    "df"
   ]
  },
  {
   "cell_type": "code",
   "execution_count": 7,
   "metadata": {},
   "outputs": [
    {
     "data": {
      "text/plain": [
       "array([-0.16206972, -0.84142446,  0.76057477, -0.11313913])"
      ]
     },
     "execution_count": 7,
     "metadata": {},
     "output_type": "execute_result"
    }
   ],
   "source": [
    "# https://colab.research.google.com/drive/1TOOjC0VDQyEr-KE6762z5KJWj1-cc3pL?usp=sharing\n",
    "\n",
    "correlations = rng.uniform(low=-1.0, high=1.0, size=4)\n",
    "correlations"
   ]
  },
  {
   "cell_type": "code",
   "execution_count": 8,
   "metadata": {},
   "outputs": [
    {
     "data": {
      "text/html": [
       "<div>\n",
       "<style scoped>\n",
       "    .dataframe tbody tr th:only-of-type {\n",
       "        vertical-align: middle;\n",
       "    }\n",
       "\n",
       "    .dataframe tbody tr th {\n",
       "        vertical-align: top;\n",
       "    }\n",
       "\n",
       "    .dataframe thead th {\n",
       "        text-align: right;\n",
       "    }\n",
       "</style>\n",
       "<table border=\"1\" class=\"dataframe\">\n",
       "  <thead>\n",
       "    <tr style=\"text-align: right;\">\n",
       "      <th></th>\n",
       "      <th>x1</th>\n",
       "      <th>x2</th>\n",
       "      <th>x3</th>\n",
       "      <th>x4</th>\n",
       "      <th>y</th>\n",
       "    </tr>\n",
       "  </thead>\n",
       "  <tbody>\n",
       "    <tr>\n",
       "      <th>0</th>\n",
       "      <td>34</td>\n",
       "      <td>15</td>\n",
       "      <td>23</td>\n",
       "      <td>56</td>\n",
       "      <td>37.137474</td>\n",
       "    </tr>\n",
       "    <tr>\n",
       "      <th>1</th>\n",
       "      <td>8</td>\n",
       "      <td>64</td>\n",
       "      <td>4</td>\n",
       "      <td>70</td>\n",
       "      <td>81.414166</td>\n",
       "    </tr>\n",
       "    <tr>\n",
       "      <th>2</th>\n",
       "      <td>46</td>\n",
       "      <td>13</td>\n",
       "      <td>6</td>\n",
       "      <td>79</td>\n",
       "      <td>60.273728</td>\n",
       "    </tr>\n",
       "    <tr>\n",
       "      <th>3</th>\n",
       "      <td>60</td>\n",
       "      <td>98</td>\n",
       "      <td>43</td>\n",
       "      <td>8</td>\n",
       "      <td>84.242199</td>\n",
       "    </tr>\n",
       "    <tr>\n",
       "      <th>4</th>\n",
       "      <td>2</td>\n",
       "      <td>18</td>\n",
       "      <td>33</td>\n",
       "      <td>8</td>\n",
       "      <td>103.286051</td>\n",
       "    </tr>\n",
       "    <tr>\n",
       "      <th>...</th>\n",
       "      <td>...</td>\n",
       "      <td>...</td>\n",
       "      <td>...</td>\n",
       "      <td>...</td>\n",
       "      <td>...</td>\n",
       "    </tr>\n",
       "    <tr>\n",
       "      <th>95</th>\n",
       "      <td>0</td>\n",
       "      <td>68</td>\n",
       "      <td>99</td>\n",
       "      <td>27</td>\n",
       "      <td>41.289700</td>\n",
       "    </tr>\n",
       "    <tr>\n",
       "      <th>96</th>\n",
       "      <td>33</td>\n",
       "      <td>59</td>\n",
       "      <td>21</td>\n",
       "      <td>33</td>\n",
       "      <td>10.294394</td>\n",
       "    </tr>\n",
       "    <tr>\n",
       "      <th>97</th>\n",
       "      <td>7</td>\n",
       "      <td>79</td>\n",
       "      <td>49</td>\n",
       "      <td>84</td>\n",
       "      <td>82.080967</td>\n",
       "    </tr>\n",
       "    <tr>\n",
       "      <th>98</th>\n",
       "      <td>6</td>\n",
       "      <td>57</td>\n",
       "      <td>0</td>\n",
       "      <td>43</td>\n",
       "      <td>98.852285</td>\n",
       "    </tr>\n",
       "    <tr>\n",
       "      <th>99</th>\n",
       "      <td>68</td>\n",
       "      <td>89</td>\n",
       "      <td>98</td>\n",
       "      <td>21</td>\n",
       "      <td>88.341732</td>\n",
       "    </tr>\n",
       "  </tbody>\n",
       "</table>\n",
       "<p>100 rows × 5 columns</p>\n",
       "</div>"
      ],
      "text/plain": [
       "    x1  x2  x3  x4           y\n",
       "0   34  15  23  56   37.137474\n",
       "1    8  64   4  70   81.414166\n",
       "2   46  13   6  79   60.273728\n",
       "3   60  98  43   8   84.242199\n",
       "4    2  18  33   8  103.286051\n",
       "..  ..  ..  ..  ..         ...\n",
       "95   0  68  99  27   41.289700\n",
       "96  33  59  21  33   10.294394\n",
       "97   7  79  49  84   82.080967\n",
       "98   6  57   0  43   98.852285\n",
       "99  68  89  98  21   88.341732\n",
       "\n",
       "[100 rows x 5 columns]"
      ]
     },
     "metadata": {},
     "output_type": "display_data"
    }
   ],
   "source": [
    "# https://stackoverflow.com/questions/42902938/create-correlated-pandas-series\n",
    "\n",
    "from scipy.stats import pearsonr\n",
    "from scipy.optimize import minimize\n",
    "\n",
    "df['y'] = (minimize(lambda x: abs(\n",
    "                                 (correlations[0] - pearsonr(df['x1'], x)[0])\n",
    "                                  + (correlations[1] - pearsonr(df['x2'], x)[0])\n",
    "                                  + (correlations[2] - pearsonr(df['x3'], x)[0])\n",
    "                                  + (correlations[3] - pearsonr(df['x4'], x)[0])\n",
    "                                 ), rng.random(len(df))).x) * 100\n",
    "\n",
    "display(df)"
   ]
  },
  {
   "cell_type": "code",
   "execution_count": 9,
   "metadata": {},
   "outputs": [
    {
     "name": "stdout",
     "output_type": "stream",
     "text": [
      "100\n"
     ]
    }
   ],
   "source": [
    "train_df = df.iloc[:int(0.8*len(df)),:]\n",
    "test_df = df.iloc[int(0.8*len(df)):,:]\n",
    "print(len(train_df)+len(test_df))"
   ]
  },
  {
   "cell_type": "code",
   "execution_count": 10,
   "metadata": {},
   "outputs": [
    {
     "name": "stdout",
     "output_type": "stream",
     "text": [
      "82.85258681960056 [-0.16573585 -0.16288678 -0.13519709 -0.19693179] 75147.0354303233\n"
     ]
    }
   ],
   "source": [
    "from lin_reg import LR\n",
    "intercept, coefficients, train_sse = LR().fit(train_df,'y')\n",
    "print(intercept, coefficients, train_sse)"
   ]
  },
  {
   "cell_type": "code",
   "execution_count": 11,
   "metadata": {},
   "outputs": [
    {
     "name": "stdout",
     "output_type": "stream",
     "text": [
      "82.85258681960069\n"
     ]
    },
    {
     "data": {
      "text/plain": [
       "array([-0.16573585, -0.16288678, -0.13519709, -0.19693179])"
      ]
     },
     "execution_count": 11,
     "metadata": {},
     "output_type": "execute_result"
    }
   ],
   "source": [
    "from sklearn.linear_model import LinearRegression\n",
    "reg = LinearRegression().fit(train_df[['x1','x2','x3','x4']].to_numpy(), train_df['y'].to_numpy())\n",
    "print(reg.intercept_)\n",
    "reg.coef_"
   ]
  },
  {
   "cell_type": "code",
   "execution_count": 22,
   "metadata": {},
   "outputs": [
    {
     "name": "stdout",
     "output_type": "stream",
     "text": [
      "Intercepts\n",
      "sklearn: 82.85258681960069\n",
      "lin_reg: 82.85258681960056\n",
      "difference: 1.2789769243681803e-13\n",
      "\n",
      "Coefficients\n",
      "sklearn: [-0.16573585 -0.16288678 -0.13519709 -0.19693179]\n",
      "lin_reg: [-0.16573585 -0.16288678 -0.13519709 -0.19693179]\n",
      "difference: [ 0. -0. -0. -0.]\n"
     ]
    }
   ],
   "source": [
    "print('Intercepts')\n",
    "print(f'sklearn: {reg.intercept_}')\n",
    "print(f'lin_reg: {intercept}')\n",
    "print(f'difference: {reg.intercept_ - intercept}')\n",
    "print('')\n",
    "print('Coefficients')\n",
    "print(f'sklearn: {reg.coef_}')\n",
    "print(f'lin_reg: {coefficients}')\n",
    "print(f'difference: {reg.coef_ - coefficients}')"
   ]
  },
  {
   "cell_type": "code",
   "execution_count": 21,
   "metadata": {},
   "outputs": [
    {
     "name": "stdout",
     "output_type": "stream",
     "text": [
      "sklearn preds: \n",
      "[41.38134633 69.8479561  58.49094641 35.18045119 57.82500064 55.92384195\n",
      " 52.2825636  59.28107676 49.02670402 47.88050552 49.42097641 50.86531667\n",
      " 40.68310198 70.23255198 52.00282131 53.07461631 58.43509612 45.65745296\n",
      " 64.10555849 39.70074405]\n",
      "\n",
      "lin_reg preds: \n",
      "[41.38134633 69.8479561  58.49094641 35.18045119 57.82500064 55.92384195\n",
      " 52.2825636  59.28107676 49.02670402 47.88050552 49.42097641 50.86531667\n",
      " 40.68310198 70.23255198 52.00282131 53.07461631 58.43509612 45.65745296\n",
      " 64.10555849 39.70074405]\n",
      "\n",
      "difference: [-0.  0.  0. -0.  0.  0.  0.  0.  0.  0. -0.  0.  0.  0.  0. -0.  0. -0.\n",
      "  0. -0.]\n"
     ]
    }
   ],
   "source": [
    "sklearn_preds = reg.predict(test_df.drop(\"y\", axis=1).to_numpy())\n",
    "lin_reg_preds = LR().predict(test_df, \"y\", coefficients, intercept)[0]\n",
    "\n",
    "print(f'sklearn preds: \\n{sklearn_preds}')\n",
    "print('')\n",
    "print(f'lin_reg preds: \\n{lin_reg_preds}')\n",
    "print('')\n",
    "print(f'difference: {sklearn_preds - lin_reg_preds}')"
   ]
  },
  {
   "cell_type": "code",
   "execution_count": null,
   "metadata": {},
   "outputs": [],
   "source": []
  }
 ],
 "metadata": {
  "kernelspec": {
   "display_name": "base",
   "language": "python",
   "name": "python3"
  },
  "language_info": {
   "codemirror_mode": {
    "name": "ipython",
    "version": 3
   },
   "file_extension": ".py",
   "mimetype": "text/x-python",
   "name": "python",
   "nbconvert_exporter": "python",
   "pygments_lexer": "ipython3",
   "version": "3.9.12"
  },
  "orig_nbformat": 4
 },
 "nbformat": 4,
 "nbformat_minor": 2
}
