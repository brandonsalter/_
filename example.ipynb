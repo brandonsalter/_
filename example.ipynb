{
 "cells": [
  {
   "cell_type": "markdown",
   "metadata": {},
   "source": [
    "## For an unsolvable system of linear equations, Ax = b, there exists a best solution, x_hat, that is found by \n",
    "## solving the equation p = Ax_hat, where p is the vector resulting from the projection of b onto the column \n",
    "## space of A. Since e = b-p is orthogonal to the column space of A (i.e., belongs to the left-nullspace of A), \n",
    "## it follows that A'(b-Ax_hat) = 0 and A'Ax_hat = A'b, allowing us to solve for x_hat."
   ]
  },
  {
   "cell_type": "code",
   "execution_count": 50,
   "metadata": {},
   "outputs": [],
   "source": [
    "import pandas as pd\n",
    "import numpy as np"
   ]
  },
  {
   "cell_type": "code",
   "execution_count": 51,
   "metadata": {},
   "outputs": [],
   "source": [
    "seed = 311\n",
    "rng = np.random.default_rng(seed) "
   ]
  },
  {
   "cell_type": "code",
   "execution_count": 52,
   "metadata": {},
   "outputs": [
    {
     "data": {
      "text/html": [
       "<div>\n",
       "<style scoped>\n",
       "    .dataframe tbody tr th:only-of-type {\n",
       "        vertical-align: middle;\n",
       "    }\n",
       "\n",
       "    .dataframe tbody tr th {\n",
       "        vertical-align: top;\n",
       "    }\n",
       "\n",
       "    .dataframe thead th {\n",
       "        text-align: right;\n",
       "    }\n",
       "</style>\n",
       "<table border=\"1\" class=\"dataframe\">\n",
       "  <thead>\n",
       "    <tr style=\"text-align: right;\">\n",
       "      <th></th>\n",
       "      <th>x1</th>\n",
       "      <th>x2</th>\n",
       "      <th>x3</th>\n",
       "      <th>x4</th>\n",
       "    </tr>\n",
       "  </thead>\n",
       "  <tbody>\n",
       "    <tr>\n",
       "      <th>0</th>\n",
       "      <td>34</td>\n",
       "      <td>15</td>\n",
       "      <td>23</td>\n",
       "      <td>56</td>\n",
       "    </tr>\n",
       "    <tr>\n",
       "      <th>1</th>\n",
       "      <td>8</td>\n",
       "      <td>64</td>\n",
       "      <td>4</td>\n",
       "      <td>70</td>\n",
       "    </tr>\n",
       "    <tr>\n",
       "      <th>2</th>\n",
       "      <td>46</td>\n",
       "      <td>13</td>\n",
       "      <td>6</td>\n",
       "      <td>79</td>\n",
       "    </tr>\n",
       "    <tr>\n",
       "      <th>3</th>\n",
       "      <td>60</td>\n",
       "      <td>98</td>\n",
       "      <td>43</td>\n",
       "      <td>8</td>\n",
       "    </tr>\n",
       "    <tr>\n",
       "      <th>4</th>\n",
       "      <td>2</td>\n",
       "      <td>18</td>\n",
       "      <td>33</td>\n",
       "      <td>8</td>\n",
       "    </tr>\n",
       "    <tr>\n",
       "      <th>...</th>\n",
       "      <td>...</td>\n",
       "      <td>...</td>\n",
       "      <td>...</td>\n",
       "      <td>...</td>\n",
       "    </tr>\n",
       "    <tr>\n",
       "      <th>95</th>\n",
       "      <td>0</td>\n",
       "      <td>68</td>\n",
       "      <td>99</td>\n",
       "      <td>27</td>\n",
       "    </tr>\n",
       "    <tr>\n",
       "      <th>96</th>\n",
       "      <td>33</td>\n",
       "      <td>59</td>\n",
       "      <td>21</td>\n",
       "      <td>33</td>\n",
       "    </tr>\n",
       "    <tr>\n",
       "      <th>97</th>\n",
       "      <td>7</td>\n",
       "      <td>79</td>\n",
       "      <td>49</td>\n",
       "      <td>84</td>\n",
       "    </tr>\n",
       "    <tr>\n",
       "      <th>98</th>\n",
       "      <td>6</td>\n",
       "      <td>57</td>\n",
       "      <td>0</td>\n",
       "      <td>43</td>\n",
       "    </tr>\n",
       "    <tr>\n",
       "      <th>99</th>\n",
       "      <td>68</td>\n",
       "      <td>89</td>\n",
       "      <td>98</td>\n",
       "      <td>21</td>\n",
       "    </tr>\n",
       "  </tbody>\n",
       "</table>\n",
       "<p>100 rows × 4 columns</p>\n",
       "</div>"
      ],
      "text/plain": [
       "    x1  x2  x3  x4\n",
       "0   34  15  23  56\n",
       "1    8  64   4  70\n",
       "2   46  13   6  79\n",
       "3   60  98  43   8\n",
       "4    2  18  33   8\n",
       "..  ..  ..  ..  ..\n",
       "95   0  68  99  27\n",
       "96  33  59  21  33\n",
       "97   7  79  49  84\n",
       "98   6  57   0  43\n",
       "99  68  89  98  21\n",
       "\n",
       "[100 rows x 4 columns]"
      ]
     },
     "execution_count": 52,
     "metadata": {},
     "output_type": "execute_result"
    }
   ],
   "source": [
    "df = pd.DataFrame(rng.integers(0,100,size=(100, 4)), columns=['x1','x2','x3','x4'])\n",
    "df"
   ]
  },
  {
   "cell_type": "code",
   "execution_count": 53,
   "metadata": {},
   "outputs": [
    {
     "data": {
      "text/plain": [
       "array([-0.16206972, -0.84142446,  0.76057477, -0.11313913])"
      ]
     },
     "execution_count": 53,
     "metadata": {},
     "output_type": "execute_result"
    }
   ],
   "source": [
    "correlations = rng.uniform(low=-1.0, high=1.0, size=4)\n",
    "correlations"
   ]
  },
  {
   "cell_type": "code",
   "execution_count": 54,
   "metadata": {},
   "outputs": [
    {
     "data": {
      "text/html": [
       "<div>\n",
       "<style scoped>\n",
       "    .dataframe tbody tr th:only-of-type {\n",
       "        vertical-align: middle;\n",
       "    }\n",
       "\n",
       "    .dataframe tbody tr th {\n",
       "        vertical-align: top;\n",
       "    }\n",
       "\n",
       "    .dataframe thead th {\n",
       "        text-align: right;\n",
       "    }\n",
       "</style>\n",
       "<table border=\"1\" class=\"dataframe\">\n",
       "  <thead>\n",
       "    <tr style=\"text-align: right;\">\n",
       "      <th></th>\n",
       "      <th>x1</th>\n",
       "      <th>x2</th>\n",
       "      <th>x3</th>\n",
       "      <th>x4</th>\n",
       "      <th>y</th>\n",
       "    </tr>\n",
       "  </thead>\n",
       "  <tbody>\n",
       "    <tr>\n",
       "      <th>0</th>\n",
       "      <td>34</td>\n",
       "      <td>15</td>\n",
       "      <td>23</td>\n",
       "      <td>56</td>\n",
       "      <td>37.137474</td>\n",
       "    </tr>\n",
       "    <tr>\n",
       "      <th>1</th>\n",
       "      <td>8</td>\n",
       "      <td>64</td>\n",
       "      <td>4</td>\n",
       "      <td>70</td>\n",
       "      <td>81.414166</td>\n",
       "    </tr>\n",
       "    <tr>\n",
       "      <th>2</th>\n",
       "      <td>46</td>\n",
       "      <td>13</td>\n",
       "      <td>6</td>\n",
       "      <td>79</td>\n",
       "      <td>60.273728</td>\n",
       "    </tr>\n",
       "    <tr>\n",
       "      <th>3</th>\n",
       "      <td>60</td>\n",
       "      <td>98</td>\n",
       "      <td>43</td>\n",
       "      <td>8</td>\n",
       "      <td>84.242199</td>\n",
       "    </tr>\n",
       "    <tr>\n",
       "      <th>4</th>\n",
       "      <td>2</td>\n",
       "      <td>18</td>\n",
       "      <td>33</td>\n",
       "      <td>8</td>\n",
       "      <td>103.286051</td>\n",
       "    </tr>\n",
       "    <tr>\n",
       "      <th>...</th>\n",
       "      <td>...</td>\n",
       "      <td>...</td>\n",
       "      <td>...</td>\n",
       "      <td>...</td>\n",
       "      <td>...</td>\n",
       "    </tr>\n",
       "    <tr>\n",
       "      <th>95</th>\n",
       "      <td>0</td>\n",
       "      <td>68</td>\n",
       "      <td>99</td>\n",
       "      <td>27</td>\n",
       "      <td>41.289700</td>\n",
       "    </tr>\n",
       "    <tr>\n",
       "      <th>96</th>\n",
       "      <td>33</td>\n",
       "      <td>59</td>\n",
       "      <td>21</td>\n",
       "      <td>33</td>\n",
       "      <td>10.294394</td>\n",
       "    </tr>\n",
       "    <tr>\n",
       "      <th>97</th>\n",
       "      <td>7</td>\n",
       "      <td>79</td>\n",
       "      <td>49</td>\n",
       "      <td>84</td>\n",
       "      <td>82.080967</td>\n",
       "    </tr>\n",
       "    <tr>\n",
       "      <th>98</th>\n",
       "      <td>6</td>\n",
       "      <td>57</td>\n",
       "      <td>0</td>\n",
       "      <td>43</td>\n",
       "      <td>98.852285</td>\n",
       "    </tr>\n",
       "    <tr>\n",
       "      <th>99</th>\n",
       "      <td>68</td>\n",
       "      <td>89</td>\n",
       "      <td>98</td>\n",
       "      <td>21</td>\n",
       "      <td>88.341732</td>\n",
       "    </tr>\n",
       "  </tbody>\n",
       "</table>\n",
       "<p>100 rows × 5 columns</p>\n",
       "</div>"
      ],
      "text/plain": [
       "    x1  x2  x3  x4           y\n",
       "0   34  15  23  56   37.137474\n",
       "1    8  64   4  70   81.414166\n",
       "2   46  13   6  79   60.273728\n",
       "3   60  98  43   8   84.242199\n",
       "4    2  18  33   8  103.286051\n",
       "..  ..  ..  ..  ..         ...\n",
       "95   0  68  99  27   41.289700\n",
       "96  33  59  21  33   10.294394\n",
       "97   7  79  49  84   82.080967\n",
       "98   6  57   0  43   98.852285\n",
       "99  68  89  98  21   88.341732\n",
       "\n",
       "[100 rows x 5 columns]"
      ]
     },
     "metadata": {},
     "output_type": "display_data"
    }
   ],
   "source": [
    "# https://stackoverflow.com/questions/42902938/create-correlated-pandas-series\n",
    "\n",
    "from scipy.stats import pearsonr\n",
    "from scipy.optimize import minimize\n",
    "\n",
    "# data = pd.DataFrame({'Country A': [10, 11, 10, 9]})\n",
    "\n",
    "# data['Country B'] = minimize(lambda x: abs(0.8 - pearsonr(data['Country A'], x)[0]), \n",
    "#                              np.random.rand(len(data['Country A']))).x\n",
    "\n",
    "# df['y1'] = (minimize(lambda x: abs(correlations[0] - pearsonr(df['x1'], x)[0]),\n",
    "#                                   rng.random(len(df))).x) * 100\n",
    "\n",
    "# df['y2'] = (minimize(lambda x: abs(correlations[1] - pearsonr(df['x2'], x)[0]),\n",
    "#                                   rng.random(len(df))).x) * 100\n",
    "\n",
    "# df['y3'] = (minimize(lambda x: abs(correlations[2] - pearsonr(df['x3'], x)[0]),\n",
    "#                                   rng.random(len(df))).x) * 100\n",
    "\n",
    "# df['y4'] = (minimize(lambda x: abs(correlations[3] - pearsonr(df['x4'], x)[0]),\n",
    "#                                   rng.random(len(df))).x) * 100\n",
    "\n",
    "df['y'] = (minimize(lambda x: abs(\n",
    "                                 (correlations[0] - pearsonr(df['x1'], x)[0])\n",
    "                                  + (correlations[1] - pearsonr(df['x2'], x)[0])\n",
    "                                  + (correlations[2] - pearsonr(df['x3'], x)[0])\n",
    "                                  + (correlations[3] - pearsonr(df['x4'], x)[0])\n",
    "                                 ), rng.random(len(df))).x) * 100\n",
    "\n",
    "display(df)"
   ]
  },
  {
   "cell_type": "code",
   "execution_count": 29,
   "metadata": {},
   "outputs": [],
   "source": [
    "# df['y'] = np.round((df['y1'] + df['y2'] +df['y3'] + df['y4']), 0)\n",
    "# df = df.drop(columns=['y1', 'y2', 'y3', 'y4'])\n",
    "# df"
   ]
  },
  {
   "cell_type": "code",
   "execution_count": 55,
   "metadata": {},
   "outputs": [],
   "source": [
    "np.set_printoptions(precision=8, threshold=1000, edgeitems=3, linewidth=75, suppress=True, nanstr='nan', infstr='inf')"
   ]
  },
  {
   "cell_type": "code",
   "execution_count": 57,
   "metadata": {},
   "outputs": [],
   "source": [
    "class Linear_Regression:\n",
    "    \n",
    "    def __init__(self):\n",
    "        print('linear regression object instantiated')\n",
    "    \n",
    "    def linear_regression(self, df: pd.DataFrame, label: str):\n",
    "        # Create coefficient matrix and dependent variable vector\n",
    "        b = df[label].to_numpy()\n",
    "        if df.iloc[:,0].sum() != len(df): # if there's no intercept column\n",
    "            df.insert(loc = 0, column = 'x0', value = np.ones(len(df)))\n",
    "        A = df.drop(label, axis=1).to_numpy()\n",
    "        # Solve A_T_A x = A_T b for x\n",
    "        A_T = np.transpose(A)\n",
    "        A_T_A = np.matmul(A_T, A)\n",
    "        A_T_b = np.matmul(A_T, b)\n",
    "        x = np.linalg.solve(A_T_A, A_T_b)\n",
    "        # Solve for p and compute sse\n",
    "        p = np.matmul(A, x)\n",
    "        e = b-p\n",
    "        train_sse = (np.linalg.norm(e))**2.\n",
    "        # Return coefficients for best solution and sse\n",
    "        return x, train_sse\n",
    "\n",
    "    def fit(self, df: pd.DataFrame, label: str):\n",
    "        coefficients, sse = linear_regression(df,label)\n",
    "        intercept = coefficients[0]\n",
    "        coefficients = coefficients[1:]\n",
    "        return intercept, coefficients\n",
    "        "
   ]
  },
  {
   "cell_type": "code",
   "execution_count": 31,
   "metadata": {},
   "outputs": [],
   "source": [
    "def linear_regression(df: pd.DataFrame, label: str):\n",
    "\n",
    "    # Create coefficient matrix and dependent variable vector\n",
    "\n",
    "    b = df[label].to_numpy()\n",
    "\n",
    "    if df.iloc[:,0].sum() != len(df): # if there's no intercept column\n",
    "        df.insert(loc = 0, column = 'x0', value = np.ones(len(df)))\n",
    "\n",
    "    A = df.drop(label, axis=1).to_numpy()\n",
    "\n",
    "    # Solve A_T_A x = A_T b for x\n",
    "\n",
    "    A_T = np.transpose(A)\n",
    "\n",
    "    A_T_A = np.matmul(A_T, A)\n",
    "\n",
    "    A_T_b = np.matmul(A_T, b)\n",
    "\n",
    "    x = np.linalg.solve(A_T_A, A_T_b)\n",
    "\n",
    "    # Solve for p and compute sse\n",
    "\n",
    "    p = np.matmul(A, x)\n",
    "\n",
    "    e = b-p\n",
    "    \n",
    "    train_sse = (np.linalg.norm(e))**2.\n",
    "\n",
    "    # Return coefficients for best solution and sse\n",
    "\n",
    "    return x, train_sse"
   ]
  },
  {
   "cell_type": "code",
   "execution_count": 45,
   "metadata": {},
   "outputs": [
    {
     "name": "stdout",
     "output_type": "stream",
     "text": [
      "68.91167632039958\n",
      "[-0.17432897 -0.1168181  -0.04999463 -0.06386287]\n"
     ]
    }
   ],
   "source": [
    "coefficients, sse = linear_regression(df,'y')\n",
    "intercept = coefficients[0]\n",
    "coefficients = coefficients[1:]\n",
    "print(intercept)\n",
    "print(coefficients)"
   ]
  },
  {
   "cell_type": "code",
   "execution_count": 46,
   "metadata": {},
   "outputs": [
    {
     "data": {
      "text/plain": [
       "array([-0.16206972, -0.84142446,  0.76057477, -0.11313913])"
      ]
     },
     "execution_count": 46,
     "metadata": {},
     "output_type": "execute_result"
    }
   ],
   "source": [
    "correlations"
   ]
  },
  {
   "cell_type": "code",
   "execution_count": 34,
   "metadata": {},
   "outputs": [
    {
     "name": "stdout",
     "output_type": "stream",
     "text": [
      "68.91167632039965\n"
     ]
    },
    {
     "data": {
      "text/plain": [
       "array([-0.17432897, -0.1168181 , -0.04999463, -0.06386287])"
      ]
     },
     "execution_count": 34,
     "metadata": {},
     "output_type": "execute_result"
    }
   ],
   "source": [
    "'''\n",
    ">>> import numpy as np\n",
    ">>> from sklearn.linear_model import LinearRegression\n",
    ">>> X = np.array([[1, 1], [1, 2], [2, 2], [2, 3]])\n",
    ">>> # y = 1 * x_0 + 2 * x_1 + 3\n",
    ">>> y = np.dot(X, np.array([1, 2])) + 3\n",
    ">>> reg = LinearRegression().fit(X, y)\n",
    ">>> reg.score(X, y)\n",
    "1.0\n",
    ">>> reg.coef_\n",
    "array([1., 2.])\n",
    ">>> reg.intercept_\n",
    "3.0...\n",
    ">>> reg.predict(np.array([[3, 5]]))\n",
    "array([16.])\n",
    "'''\n",
    "from sklearn.linear_model import LinearRegression\n",
    "reg = LinearRegression().fit(df[['x1','x2','x3','x4']].to_numpy(), df['y'].to_numpy())\n",
    "print(reg.intercept_)\n",
    "reg.coef_"
   ]
  },
  {
   "cell_type": "code",
   "execution_count": null,
   "metadata": {},
   "outputs": [],
   "source": [
    "(array([68.91167632, -0.17432897, -0.1168181 , -0.04999463, -0.06386287]),\n",
    " 95844.61724311876)"
   ]
  },
  {
   "cell_type": "code",
   "execution_count": 49,
   "metadata": {},
   "outputs": [
    {
     "name": "stdout",
     "output_type": "stream",
     "text": [
      "Intercepts\n",
      "Scikit-Learn:      68.91167632039965\n",
      "Linear_Regression: 68.91167632039958\n",
      "\n",
      "Coefficients\n",
      "Scikit-Learn:      [-0.17432897 -0.1168181  -0.04999463 -0.06386287]\n",
      "Linear_Regression: [-0.17432897 -0.1168181  -0.04999463 -0.06386287]\n"
     ]
    }
   ],
   "source": [
    "print('Intercepts')\n",
    "print(f'Scikit-Learn:      {reg.intercept_}')\n",
    "print(f'Linear_Regression: {intercept}')\n",
    "print('')\n",
    "print('Coefficients')\n",
    "print(f'Scikit-Learn:      {reg.coef_}')\n",
    "print(f'Linear_Regression: {coefficients}')"
   ]
  },
  {
   "cell_type": "code",
   "execution_count": 60,
   "metadata": {},
   "outputs": [
    {
     "name": "stdout",
     "output_type": "stream",
     "text": [
      "linear regression object instantiated\n"
     ]
    },
    {
     "data": {
      "text/plain": [
       "(68.91167632039958,\n",
       " array([-0.17432897, -0.1168181 , -0.04999463, -0.06386287]))"
      ]
     },
     "execution_count": 60,
     "metadata": {},
     "output_type": "execute_result"
    }
   ],
   "source": [
    "lin_reg = Linear_Regression()\n",
    "lin_reg.fit(df,'y')"
   ]
  },
  {
   "cell_type": "code",
   "execution_count": null,
   "metadata": {},
   "outputs": [],
   "source": []
  }
 ],
 "metadata": {
  "kernelspec": {
   "display_name": "base",
   "language": "python",
   "name": "python3"
  },
  "language_info": {
   "codemirror_mode": {
    "name": "ipython",
    "version": 3
   },
   "file_extension": ".py",
   "mimetype": "text/x-python",
   "name": "python",
   "nbconvert_exporter": "python",
   "pygments_lexer": "ipython3",
   "version": "3.9.12"
  },
  "orig_nbformat": 4
 },
 "nbformat": 4,
 "nbformat_minor": 2
}
